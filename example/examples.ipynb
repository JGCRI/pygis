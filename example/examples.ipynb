{
 "cells": [
  {
   "cell_type": "markdown",
   "metadata": {},
   "source": [
    "## The following are use examples for the `pygis` Python package"
   ]
  },
  {
   "cell_type": "markdown",
   "metadata": {},
   "source": [
    "### Zonal Statistics"
   ]
  },
  {
   "cell_type": "code",
   "execution_count": null,
   "metadata": {},
   "outputs": [],
   "source": [
    "from pygis.analysis import ZonalStatistics\n",
    "\n",
    "# raster dataset full path with file name and extension\n",
    "raster_file = '<your file here>'\n",
    "\n",
    "# polygon shapefile for zones full path with file name and extension\n",
    "poly_shp = '<your file here>'\n",
    "\n",
    "# target field to attach to the output CSV file that is unique to each feature\n",
    "target_field = '<your field here>'\n",
    "\n",
    "# list of stats to produce - see class docstring for complete list available\n",
    "stats_list = ['min', 'sum', 'max']\n",
    "\n",
    "# full path with file name and extension for the output CSV\n",
    "out_file = '<your file here>'\n",
    "\n",
    "# instantiate class\n",
    "zonal_obj = ZonalStatistics(raster_file=raster_file,\n",
    "                            shp_file=poly_shp,\n",
    "                            out_file=out_file,\n",
    "                            target_field=target_field,\n",
    "                            stats_options=stats_list)\n",
    "\n",
    "# run zonal statistics\n",
    "z = zonal_obj.zonal_statistics()"
   ]
  }
 ],
 "metadata": {
  "kernelspec": {
   "display_name": "Python 3",
   "language": "python",
   "name": "python3"
  },
  "language_info": {
   "codemirror_mode": {
    "name": "ipython",
    "version": 3
   },
   "file_extension": ".py",
   "mimetype": "text/x-python",
   "name": "python",
   "nbconvert_exporter": "python",
   "pygments_lexer": "ipython3",
   "version": "3.6.5"
  }
 },
 "nbformat": 4,
 "nbformat_minor": 2
}
